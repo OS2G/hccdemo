{
 "cells": [
  {
   "cell_type": "markdown",
   "metadata": {},
   "source": [
    "##  Network design notes\n",
    "\n",
    "You must use one hidden layer and fully connected layers with ReLU or a variation (not convolutional nodes) for hidden nodes as well as softmax for the output layer. You will measure loss with cross-entropy\n",
    "\n",
    "Use Adam to optimize the training set.\n",
    "\n",
    "Use at least two sets of hyperparameters (at least 2 layers?)\n",
    "\n",
    "Use a regularizer & evaluate your systems performance with and without it\n",
    "\n",
    "Perform at least 2x2x2 = 8 training runs\n",
    "\n"
   ]
  },
  {
   "cell_type": "code",
   "execution_count": 1,
   "metadata": {
    "collapsed": true
   },
   "outputs": [],
   "source": [
    "from __future__ import print_function\n",
    "\n",
    "import os  # to work with file paths\n",
    "\n",
    "import tensorflow as tf         # to specify and run computation graphs\n",
    "import numpy as np              # for numerical operations taking place outside of the TF graph\n",
    "import matplotlib.pyplot as plt # to draw plots\n",
    "from scipy.sparse import csc_matrix\n",
    "fmnist_dir = '/work/cse479/shared/homework/01/'"
   ]
  },
  {
   "cell_type": "markdown",
   "metadata": {},
   "source": [
    "## helper functions\n",
    "\n",
    "when moving this to the three python files, place the functions below in a *util.py* file"
   ]
  },
  {
   "cell_type": "code",
   "execution_count": 2,
   "metadata": {
    "collapsed": true
   },
   "outputs": [],
   "source": [
    "def split_data(data, proportion):\n",
    "    \"\"\"\n",
    "    Split a numpy array into two parts of `proportion` and `1 - proportion`\n",
    "    \n",
    "    Args:\n",
    "        - data: numpy array, to be split along the first axis\n",
    "        - proportion: a float less than 1\n",
    "    \"\"\"\n",
    "    size = data.shape[0]\n",
    "    split_idx = int(proportion * size)\n",
    "    np.random.shuffle(data)\n",
    "    return data[:split_idx], data[split_idx:]"
   ]
  },
  {
   "cell_type": "code",
   "execution_count": 3,
   "metadata": {
    "collapsed": true
   },
   "outputs": [],
   "source": [
    "def labelToArray(labelArray):\n",
    "    convertedLabelArray = []\n",
    "    for label in labelArray:\n",
    "        element = np.zeros(10)\n",
    "        element[int(label)] = 1\n",
    "        convertedLabelArray.append(element)\n",
    "    return convertedLabelArray"
   ]
  },
  {
   "cell_type": "markdown",
   "metadata": {},
   "source": [
    "## get the data\n",
    "\n",
    "#### Vector of dimension 784 (corresponding to pixel values of 28x28 images) each with integer from 0-255 \n",
    "\n",
    "| *Label Value* | *Meaning*     |\n",
    "| ------------- |:-------------:|\n",
    "| 0      | T-shirt / Top |\n",
    "| 1      | Trouser  |\n",
    "| 2      | Pullover |\n",
    "| 3      | Dress |\n",
    "| 4      | Coat |\n",
    "| 5      | Sandal  |\n",
    "| 6      | Shirt |\n",
    "| 7      | Sneaker |\n",
    "| 8      | Bag |\n",
    "| 9      | Ankle Boot |"
   ]
  },
  {
   "cell_type": "code",
   "execution_count": null,
   "metadata": {},
   "outputs": [],
   "source": [
    "# extract the dataset and split into 80% training and 80% testing\n",
    "data_train, data_test = split_data(np.load(fmnist_dir + 'fmnist_train_data.npy'), 0.8)\n",
    "labels_train, labels_test = split_data(np.load(fmnist_dir + 'fmnist_train_labels.npy'), 0.8)\n",
    "\n",
    "# convert the matrices from 0-255 to one hot encoded data\n",
    "#data_train = tf.math.multiply(data_train,1/255)\n",
    "#data_test = tf.math.multiply(data_test,1/255)\n",
    "\n",
    "\n",
    "labels_test = labelToArray(labels_test)\n",
    "labels_train = labelToArray(labels_train)\n",
    "\n",
    "plt.imshow(np.reshape(data_train[1], (28,28)))\n"
   ]
  },
  {
   "cell_type": "markdown",
   "metadata": {},
   "source": [
    "# Define the model\n",
    "\n",
    "References\n",
    "keras's model api https://www.tensorflow.org/api_docs/python/tf/keras/Model\n",
    "tf.layers.Dense\n",
    "https://www.tensorflow.org/api_docs/python/tf/keras/layers/Dense\n",
    "\n",
    "first layer will have 400 nodes\n",
    "\n",
    "### tf.keras.layers.Dense()\n",
    "see the docs in references for more information"
   ]
  },
  {
   "cell_type": "code",
   "execution_count": 5,
   "metadata": {
    "scrolled": false
   },
   "outputs": [
    {
     "name": "stderr",
     "output_type": "stream",
     "text": [
      "WARNING: Logging before flag parsing goes to stderr.\n",
      "W1011 14:12:50.733970 47351219245184 deprecation.py:506] From /util/opt/anaconda/deployed-conda-envs/packages/tensorflow-gpu/envs/tensorflow-gpu-1.14.0-py36/lib/python3.6/site-packages/tensorflow/python/ops/init_ops.py:1251: calling VarianceScaling.__init__ (from tensorflow.python.ops.init_ops) with dtype is deprecated and will be removed in a future version.\n",
      "Instructions for updating:\n",
      "Call initializer instance with the dtype argument instead of passing it to the constructor\n",
      "W1011 14:12:51.297392 47351219245184 deprecation.py:323] From /util/opt/anaconda/deployed-conda-envs/packages/tensorflow-gpu/envs/tensorflow-gpu-1.14.0-py36/lib/python3.6/site-packages/tensorflow/python/ops/math_grad.py:1250: add_dispatch_support.<locals>.wrapper (from tensorflow.python.ops.array_ops) is deprecated and will be removed in a future version.\n",
      "Instructions for updating:\n",
      "Use tf.where in 2.0, which has the same broadcast rule as np.where\n"
     ]
    },
    {
     "name": "stdout",
     "output_type": "stream",
     "text": [
      "Train on 38400 samples, validate on 9600 samples\n",
      "Epoch 1/100\n",
      "38400/38400 [==============================] - 7s 180us/sample - loss: 2.1533 - acc: 0.8937 - val_loss: 1.6478 - val_acc: 0.9000\n",
      "Epoch 2/100\n",
      "38400/38400 [==============================] - 6s 165us/sample - loss: 1.5807 - acc: 0.9000 - val_loss: 1.5527 - val_acc: 0.9000\n",
      "Epoch 3/100\n",
      "38400/38400 [==============================] - 6s 164us/sample - loss: 1.5477 - acc: 0.9000 - val_loss: 1.5447 - val_acc: 0.9000\n",
      "Epoch 4/100\n",
      "38400/38400 [==============================] - 6s 168us/sample - loss: 1.5437 - acc: 0.9000 - val_loss: 1.5431 - val_acc: 0.9000\n",
      "Epoch 5/100\n",
      "38400/38400 [==============================] - 7s 170us/sample - loss: 1.6381 - acc: 0.8999 - val_loss: 1.6831 - val_acc: 0.9000\n",
      "Epoch 6/100\n",
      "38400/38400 [==============================] - 6s 167us/sample - loss: 1.6531 - acc: 0.9000 - val_loss: 1.6234 - val_acc: 0.9000\n",
      "Epoch 7/100\n",
      "38400/38400 [==============================] - 6s 165us/sample - loss: 1.5975 - acc: 0.9000 - val_loss: 1.5750 - val_acc: 0.9000\n",
      "Epoch 8/100\n",
      "38400/38400 [==============================] - 6s 166us/sample - loss: 1.5611 - acc: 0.9000 - val_loss: 1.5515 - val_acc: 0.9000\n"
     ]
    },
    {
     "data": {
      "image/png": "[encoded data removed]",
      "text/plain": [
       "<Figure size 432x288 with 1 Axes>"
      ]
     },
     "metadata": {
      "needs_background": "light"
     },
     "output_type": "display_data"
    },
    {
     "name": "stdout",
     "output_type": "stream",
     "text": [
      "12000/12000 [==============================] - 1s 75us/sample - loss: 1.5515 - acc: 0.9000\n",
      "\n",
      "\n",
      "Test loss: 1.551497220993042\n",
      "Test accuracy: 0.89999664\n"
     ]
    }
   ],
   "source": [
    "with tf.Session() as session:\n",
    "    session.run(tf.global_variables_initializer())\n",
    "    \n",
    "    # create the network\n",
    "    model = tf.keras.models.Sequential()\n",
    "    model.add(tf.keras.layers.Dense(100, \n",
    "                        input_shape=(784,),\n",
    "                        kernel_regularizer=tf.keras.regularizers.l2(l=0.01),\n",
    "                        activation='relu'));\n",
    "    model.add(tf.keras.layers.Dense(10,\n",
    "                        kernel_regularizer=tf.keras.regularizers.l2(l=0.01)))\n",
    "    \n",
    "    \n",
    "    model.compile(optimizer='Adam',loss='binary_crossentropy', metrics=['accuracy'])\n",
    "    \n",
    "    # define an early stopping callback for model.fit()\n",
    "    # stop if there are 4 consecutive epochs with no improvement\n",
    "    early_stopping_callback = tf.keras.callbacks.EarlyStopping(monitor='val_loss', patience=4)\n",
    "    \n",
    "\n",
    "    # train & validate. Allocate 20% for validation set. 100 epochs\n",
    "    history = model.fit(np.array(data_train), np.array(labels_train), batch_size = 32, epochs=100, callbacks=[early_stopping_callback], verbose=1, shuffle=True, validation_split=0.2)\n",
    "    # plot\n",
    "    plt.plot(history.history['loss'])\n",
    "    plt.plot(history.history['val_loss'])\n",
    "    plt.title('Historical loss')\n",
    "    plt.ylabel('loss')\n",
    "    plt.xlabel('epoch')\n",
    "    plt.legend(['train', 'test'])\n",
    "    plt.show()\n",
    "    score = model.evaluate(np.array(data_test), np.array(labels_test), verbose=1)\n",
    "    print('\\n\\nTest loss:', score[0])\n",
    "    print('Test accuracy:', score[1])\n",
    "    "
   ]
  },
  {
   "cell_type": "code",
   "execution_count": 9,
   "metadata": {
    "scrolled": true
   },
   "outputs": [
    {
     "name": "stdout",
     "output_type": "stream",
     "text": [
      "Model: \"sequential_4\"\n",
      "_________________________________________________________________\n",
      "Layer (type)                 Output Shape              Param #   \n",
      "=================================================================\n",
      "dense_8 (Dense)              (None, 100)               78500     \n",
      "_________________________________________________________________\n",
      "dense_9 (Dense)              (None, 10)                1010      \n",
      "=================================================================\n",
      "Total params: 79,510\n",
      "Trainable params: 79,510\n",
      "Non-trainable params: 0\n",
      "_________________________________________________________________\n",
      "12000/12000 - 1s - loss: 1.5425 - acc: 0.9000\n"
     ]
    }
   ],
   "source": [
    "with tf.Session() as session:\n",
    "    model = tf.keras.models.load_model('fmnist_model.h5')\n",
    "    model.summary()\n",
    "    model.evaluate(np.array(data_test), np.array(labels_test), verbose=2)"
   ]
  },
  {
   "cell_type": "markdown",
   "metadata": {
    "collapsed": true
   },
   "source": [
    "| *Label Value* | *Meaning*     |\n",
    "| ------------- |:-------------:|\n",
    "| 0      | T-shirt / Top |\n",
    "| 1      | Trouser  |\n",
    "| 2      | Pullover |\n",
    "| 3      | Dress |\n",
    "| 4      | Coat |\n",
    "| 5      | Sandal  |\n",
    "| 6      | Shirt |\n",
    "| 7      | Sneaker |\n",
    "| 8      | Bag |\n",
    "| 9      | Ankle Boot |"
   ]
  },
  {
   "cell_type": "code",
   "execution_count": null,
   "metadata": {
    "collapsed": true
   },
   "outputs": [],
   "source": []
  }
 ],
 "metadata": {
  "kernelspec": {
   "display_name": "TensorFlow 1.14 GPU (py36)",
   "language": "python",
   "name": "tensorflow-gpu-1.14-py36"
  },
  "language_info": {
   "codemirror_mode": {
    "name": "ipython",
    "version": 3
   },
   "file_extension": ".py",
   "mimetype": "text/x-python",
   "name": "python",
   "nbconvert_exporter": "python",
   "pygments_lexer": "ipython3",
   "version": "3.6.7"
  }
 },
 "nbformat": 4,
 "nbformat_minor": 2
}
